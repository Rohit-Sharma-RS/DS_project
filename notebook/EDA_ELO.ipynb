{
 "cells": [
  {
   "cell_type": "markdown",
   "metadata": {},
   "source": [
    "## Some imports"
   ]
  },
  {
   "cell_type": "code",
   "execution_count": 1,
   "metadata": {},
   "outputs": [],
   "source": [
    "import pandas as pd\n",
    "import matplotlib.pyplot as plt\n",
    "import seaborn as sns\n",
    "from datetime import datetime\n",
    "import numpy as np"
   ]
  },
  {
   "cell_type": "code",
   "execution_count": 4,
   "metadata": {},
   "outputs": [
    {
     "data": {
      "text/html": [
       "<div>\n",
       "<style scoped>\n",
       "    .dataframe tbody tr th:only-of-type {\n",
       "        vertical-align: middle;\n",
       "    }\n",
       "\n",
       "    .dataframe tbody tr th {\n",
       "        vertical-align: top;\n",
       "    }\n",
       "\n",
       "    .dataframe thead th {\n",
       "        text-align: right;\n",
       "    }\n",
       "</style>\n",
       "<table border=\"1\" class=\"dataframe\">\n",
       "  <thead>\n",
       "    <tr style=\"text-align: right;\">\n",
       "      <th></th>\n",
       "      <th>Player</th>\n",
       "      <th>ELO</th>\n",
       "      <th>Role</th>\n",
       "      <th>Form</th>\n",
       "      <th>LastPlayed</th>\n",
       "      <th>DaysSinceLastMatch</th>\n",
       "    </tr>\n",
       "  </thead>\n",
       "  <tbody>\n",
       "    <tr>\n",
       "      <th>0</th>\n",
       "      <td>SL Malinga</td>\n",
       "      <td>1838</td>\n",
       "      <td>bowler</td>\n",
       "      <td>0.312202</td>\n",
       "      <td>2024-04-07</td>\n",
       "      <td>340</td>\n",
       "    </tr>\n",
       "    <tr>\n",
       "      <th>1</th>\n",
       "      <td>CV Varun</td>\n",
       "      <td>1804</td>\n",
       "      <td>bowler</td>\n",
       "      <td>0.252937</td>\n",
       "      <td>2025-03-12</td>\n",
       "      <td>1</td>\n",
       "    </tr>\n",
       "    <tr>\n",
       "      <th>2</th>\n",
       "      <td>MA Starc</td>\n",
       "      <td>1794</td>\n",
       "      <td>bowler</td>\n",
       "      <td>0.305210</td>\n",
       "      <td>2025-03-12</td>\n",
       "      <td>1</td>\n",
       "    </tr>\n",
       "    <tr>\n",
       "      <th>3</th>\n",
       "      <td>SB Jakati</td>\n",
       "      <td>1780</td>\n",
       "      <td>bowler</td>\n",
       "      <td>0.197289</td>\n",
       "      <td>2023-10-24</td>\n",
       "      <td>506</td>\n",
       "    </tr>\n",
       "    <tr>\n",
       "      <th>4</th>\n",
       "      <td>DE Bollinger</td>\n",
       "      <td>1776</td>\n",
       "      <td>bowler</td>\n",
       "      <td>0.312146</td>\n",
       "      <td>2022-12-13</td>\n",
       "      <td>821</td>\n",
       "    </tr>\n",
       "  </tbody>\n",
       "</table>\n",
       "</div>"
      ],
      "text/plain": [
       "         Player   ELO    Role      Form  LastPlayed  DaysSinceLastMatch\n",
       "0    SL Malinga  1838  bowler  0.312202  2024-04-07                 340\n",
       "1      CV Varun  1804  bowler  0.252937  2025-03-12                   1\n",
       "2      MA Starc  1794  bowler  0.305210  2025-03-12                   1\n",
       "3     SB Jakati  1780  bowler  0.197289  2023-10-24                 506\n",
       "4  DE Bollinger  1776  bowler  0.312146  2022-12-13                 821"
      ]
     },
     "execution_count": 4,
     "metadata": {},
     "output_type": "execute_result"
    }
   ],
   "source": [
    "df = pd.read_csv(r\"data\\player_ELO.csv\")\n",
    "df.head()"
   ]
  },
  {
   "cell_type": "code",
   "execution_count": 7,
   "metadata": {},
   "outputs": [],
   "source": [
    "df['LastPlayed'] = pd.to_datetime(df['LastPlayed'])"
   ]
  },
  {
   "cell_type": "markdown",
   "metadata": {},
   "source": [
    "## Some basic analysis on data"
   ]
  },
  {
   "cell_type": "code",
   "execution_count": 12,
   "metadata": {},
   "outputs": [
    {
     "data": {
      "text/plain": [
       "(741, 6)"
      ]
     },
     "execution_count": 12,
     "metadata": {},
     "output_type": "execute_result"
    }
   ],
   "source": [
    "df.shape"
   ]
  },
  {
   "cell_type": "code",
   "execution_count": 18,
   "metadata": {},
   "outputs": [
    {
     "data": {
      "text/plain": [
       "Player                0\n",
       "ELO                   0\n",
       "Role                  0\n",
       "Form                  0\n",
       "LastPlayed            0\n",
       "DaysSinceLastMatch    0\n",
       "dtype: int64"
      ]
     },
     "execution_count": 18,
     "metadata": {},
     "output_type": "execute_result"
    }
   ],
   "source": [
    "df.isna().sum()"
   ]
  },
  {
   "cell_type": "code",
   "execution_count": 19,
   "metadata": {},
   "outputs": [
    {
     "data": {
      "text/plain": [
       "0"
      ]
     },
     "execution_count": 19,
     "metadata": {},
     "output_type": "execute_result"
    }
   ],
   "source": [
    "df.duplicated().sum()"
   ]
  },
  {
   "cell_type": "code",
   "execution_count": 20,
   "metadata": {},
   "outputs": [
    {
     "data": {
      "text/html": [
       "<div>\n",
       "<style scoped>\n",
       "    .dataframe tbody tr th:only-of-type {\n",
       "        vertical-align: middle;\n",
       "    }\n",
       "\n",
       "    .dataframe tbody tr th {\n",
       "        vertical-align: top;\n",
       "    }\n",
       "\n",
       "    .dataframe thead th {\n",
       "        text-align: right;\n",
       "    }\n",
       "</style>\n",
       "<table border=\"1\" class=\"dataframe\">\n",
       "  <thead>\n",
       "    <tr style=\"text-align: right;\">\n",
       "      <th></th>\n",
       "      <th>ELO</th>\n",
       "      <th>Form</th>\n",
       "      <th>LastPlayed</th>\n",
       "      <th>DaysSinceLastMatch</th>\n",
       "    </tr>\n",
       "  </thead>\n",
       "  <tbody>\n",
       "    <tr>\n",
       "      <th>count</th>\n",
       "      <td>741.000000</td>\n",
       "      <td>741.000000</td>\n",
       "      <td>741</td>\n",
       "      <td>741.000000</td>\n",
       "    </tr>\n",
       "    <tr>\n",
       "      <th>mean</th>\n",
       "      <td>1554.946019</td>\n",
       "      <td>0.151929</td>\n",
       "      <td>2024-01-18 18:39:21.133603328</td>\n",
       "      <td>419.222672</td>\n",
       "    </tr>\n",
       "    <tr>\n",
       "      <th>min</th>\n",
       "      <td>1388.000000</td>\n",
       "      <td>0.000000</td>\n",
       "      <td>2022-03-14 00:00:00</td>\n",
       "      <td>1.000000</td>\n",
       "    </tr>\n",
       "    <tr>\n",
       "      <th>25%</th>\n",
       "      <td>1497.000000</td>\n",
       "      <td>0.088279</td>\n",
       "      <td>2023-02-20 00:00:00</td>\n",
       "      <td>42.000000</td>\n",
       "    </tr>\n",
       "    <tr>\n",
       "      <th>50%</th>\n",
       "      <td>1537.000000</td>\n",
       "      <td>0.153987</td>\n",
       "      <td>2024-03-29 00:00:00</td>\n",
       "      <td>349.000000</td>\n",
       "    </tr>\n",
       "    <tr>\n",
       "      <th>75%</th>\n",
       "      <td>1605.000000</td>\n",
       "      <td>0.217376</td>\n",
       "      <td>2025-01-30 00:00:00</td>\n",
       "      <td>752.000000</td>\n",
       "    </tr>\n",
       "    <tr>\n",
       "      <th>max</th>\n",
       "      <td>1838.000000</td>\n",
       "      <td>0.610000</td>\n",
       "      <td>2025-03-12 00:00:00</td>\n",
       "      <td>1095.000000</td>\n",
       "    </tr>\n",
       "    <tr>\n",
       "      <th>std</th>\n",
       "      <td>75.758452</td>\n",
       "      <td>0.087259</td>\n",
       "      <td>NaN</td>\n",
       "      <td>369.938593</td>\n",
       "    </tr>\n",
       "  </tbody>\n",
       "</table>\n",
       "</div>"
      ],
      "text/plain": [
       "               ELO        Form                     LastPlayed  \\\n",
       "count   741.000000  741.000000                            741   \n",
       "mean   1554.946019    0.151929  2024-01-18 18:39:21.133603328   \n",
       "min    1388.000000    0.000000            2022-03-14 00:00:00   \n",
       "25%    1497.000000    0.088279            2023-02-20 00:00:00   \n",
       "50%    1537.000000    0.153987            2024-03-29 00:00:00   \n",
       "75%    1605.000000    0.217376            2025-01-30 00:00:00   \n",
       "max    1838.000000    0.610000            2025-03-12 00:00:00   \n",
       "std      75.758452    0.087259                            NaN   \n",
       "\n",
       "       DaysSinceLastMatch  \n",
       "count          741.000000  \n",
       "mean           419.222672  \n",
       "min              1.000000  \n",
       "25%             42.000000  \n",
       "50%            349.000000  \n",
       "75%            752.000000  \n",
       "max           1095.000000  \n",
       "std            369.938593  "
      ]
     },
     "execution_count": 20,
     "metadata": {},
     "output_type": "execute_result"
    }
   ],
   "source": [
    "df.describe()"
   ]
  },
  {
   "cell_type": "markdown",
   "metadata": {},
   "source": [
    "## Basic analysis functions:-"
   ]
  },
  {
   "cell_type": "code",
   "execution_count": 22,
   "metadata": {},
   "outputs": [],
   "source": [
    "def analyze_elo_distribution():\n",
    "    \"\"\"Analyze the distribution of ELO ratings\"\"\"\n",
    "    print(\"ELO Rating Analysis:\")\n",
    "    print(f\"Mean ELO: {df['ELO'].mean():.2f}\")\n",
    "    print(f\"Median ELO: {df['ELO'].median():.2f}\")\n",
    "    print(f\"Min ELO: {df['ELO'].min()}\")\n",
    "    print(f\"Max ELO: {df['ELO'].max()}\")\n",
    "    print(f\"ELO Standard Deviation: {df['ELO'].std():.2f}\")\n",
    "    \n",
    "    print(\"\\nTop 5 players by ELO:\")\n",
    "    print(df.sort_values('ELO', ascending=False)[['Player', 'ELO', 'Role']].head())\n",
    "    \n",
    "    # Role-based ELO analysis\n",
    "    print(\"\\nELO statistics by role:\")\n",
    "    print(df.groupby('Role')['ELO'].agg(['count', 'mean', 'median', 'min', 'max', 'std']))"
   ]
  },
  {
   "cell_type": "code",
   "execution_count": 24,
   "metadata": {},
   "outputs": [
    {
     "name": "stdout",
     "output_type": "stream",
     "text": [
      "ELO Rating Analysis:\n",
      "Mean ELO: 1554.95\n",
      "Median ELO: 1537.00\n",
      "Min ELO: 1388\n",
      "Max ELO: 1838\n",
      "ELO Standard Deviation: 75.76\n",
      "\n",
      "Top 5 players by ELO:\n",
      "         Player   ELO    Role\n",
      "0    SL Malinga  1838  bowler\n",
      "1      CV Varun  1804  bowler\n",
      "2      MA Starc  1794  bowler\n",
      "3     SB Jakati  1780  bowler\n",
      "4  DE Bollinger  1776  bowler\n",
      "\n",
      "ELO statistics by role:\n",
      "             count         mean  median   min   max        std\n",
      "Role                                                          \n",
      "all-rounder     85  1553.329412  1537.0  1426  1738  65.185338\n",
      "batsman        293  1548.337884  1529.0  1388  1756  72.924655\n",
      "bowler         354  1562.169492  1555.0  1388  1838  80.324340\n",
      "unknown          9  1501.222222  1490.0  1486  1525  16.991011\n"
     ]
    }
   ],
   "source": [
    "analyze_elo_distribution()"
   ]
  },
  {
   "cell_type": "markdown",
   "metadata": {},
   "source": [
    "## Form vs ELO?"
   ]
  },
  {
   "cell_type": "code",
   "execution_count": 27,
   "metadata": {},
   "outputs": [],
   "source": [
    "def analyze_form_vs_elo():\n",
    "    \"\"\"Analyze relationship between form and ELO\"\"\"\n",
    "    correlation = df['ELO'].corr(df['Form'])\n",
    "    print(f\"\\nCorrelation between Form and ELO: {correlation:.4f}\")\n",
    "    \n",
    "    # Group players into form categories\n",
    "    df['FormCategory'] = pd.qcut(df['Form'], 3, labels=['Low', 'Medium', 'High'])\n",
    "    print(\"\\nAverage ELO by Form Category:\")\n",
    "    print(df.groupby('FormCategory')['ELO'].mean().sort_values(ascending=False))"
   ]
  },
  {
   "cell_type": "code",
   "execution_count": 28,
   "metadata": {},
   "outputs": [
    {
     "name": "stdout",
     "output_type": "stream",
     "text": [
      "\n",
      "Correlation between Form and ELO: 0.4768\n",
      "\n",
      "Average ELO by Form Category:\n",
      "FormCategory\n",
      "High      1598.097166\n",
      "Medium    1556.882591\n",
      "Low       1509.858300\n",
      "Name: ELO, dtype: float64\n"
     ]
    },
    {
     "name": "stderr",
     "output_type": "stream",
     "text": [
      "C:\\Users\\vampi\\AppData\\Local\\Temp\\ipykernel_12876\\3152412498.py:9: FutureWarning: The default of observed=False is deprecated and will be changed to True in a future version of pandas. Pass observed=False to retain current behavior or observed=True to adopt the future default and silence this warning.\n",
      "  print(df.groupby('FormCategory')['ELO'].mean().sort_values(ascending=False))\n"
     ]
    }
   ],
   "source": [
    "analyze_form_vs_elo()"
   ]
  },
  {
   "cell_type": "markdown",
   "metadata": {},
   "source": [
    "## Active and inactive players"
   ]
  },
  {
   "cell_type": "code",
   "execution_count": 31,
   "metadata": {},
   "outputs": [],
   "source": [
    "def active_vs_inactive():\n",
    "    \"\"\"Compare active vs inactive players\"\"\"\n",
    "    # Define active as played within last 30 days\n",
    "    df['Status'] = df['DaysSinceLastMatch'].apply(lambda x: 'Active' if x <= 100 else 'Inactive')\n",
    "    \n",
    "    print(\"\\nActive vs Inactive Players:\")\n",
    "    print(f\"Active players: {df[df['Status'] == 'Active'].shape[0]}\")\n",
    "    print(f\"Inactive players: {df[df['Status'] == 'Inactive'].shape[0]}\")\n",
    "    \n",
    "    print(\"\\nAverage ELO by player status:\")\n",
    "    print(df.groupby('Status')['ELO'].mean())\n",
    "    \n",
    "    print(\"\\nAverage Form by player status:\")\n",
    "    print(df.groupby('Status')['Form'].mean())"
   ]
  },
  {
   "cell_type": "code",
   "execution_count": 32,
   "metadata": {},
   "outputs": [
    {
     "name": "stdout",
     "output_type": "stream",
     "text": [
      "\n",
      "Active vs Inactive Players:\n",
      "Active players: 250\n",
      "Inactive players: 491\n",
      "\n",
      "Average ELO by player status:\n",
      "Status\n",
      "Active      1583.536000\n",
      "Inactive    1540.389002\n",
      "Name: ELO, dtype: float64\n",
      "\n",
      "Average Form by player status:\n",
      "Status\n",
      "Active      0.171625\n",
      "Inactive    0.141900\n",
      "Name: Form, dtype: float64\n"
     ]
    }
   ],
   "source": [
    "active_vs_inactive()"
   ]
  },
  {
   "cell_type": "code",
   "execution_count": 45,
   "metadata": {},
   "outputs": [],
   "source": [
    "df2 = df[df['DaysSinceLastMatch'] <= 100]\n",
    "with open('Recent_ELO.csv', 'w') as f:\n",
    "    f.write(df2.to_csv())"
   ]
  },
  {
   "cell_type": "markdown",
   "metadata": {},
   "source": [
    "## Most valuable players based on insights and role and current"
   ]
  },
  {
   "cell_type": "code",
   "execution_count": null,
   "metadata": {},
   "outputs": [
    {
     "name": "stdout",
     "output_type": "stream",
     "text": [
      "\n",
      "Top 3 active players by ELO:\n",
      "1. CV Varun (ELO: 1804, Role: bowler, Form: 0.253)\n",
      "2. MA Starc (ELO: 1794, Role: bowler, Form: 0.305)\n",
      "3. Shubman Gill (ELO: 1756, Role: batsman, Form: 0.226)\n"
     ]
    }
   ],
   "source": [
    "active_players = df[df['DaysSinceLastMatch'] <= 30]\n",
    "if not active_players.empty:\n",
    "    top_active = active_players.sort_values('ELO', ascending=False).head(3)\n",
    "    print(\"\\nTop 3 active players by ELO:\")\n",
    "    for i, (_, player) in enumerate(top_active.iterrows(), 1):\n",
    "        print(f\"{i}. {player['Player']} (ELO: {player['ELO']}, Role: {player['Role']}, Form: {player['Form']:.3f})\")"
   ]
  },
  {
   "cell_type": "code",
   "execution_count": 44,
   "metadata": {},
   "outputs": [
    {
     "name": "stdout",
     "output_type": "stream",
     "text": [
      "\n",
      "Players with lower ELO but above-median form (potential risers):\n",
      "- PJ Sangwan (ELO: 1534, Form: 0.204)\n",
      "- HV Patel (ELO: 1534, Form: 0.274)\n",
      "- AP Dole (ELO: 1532, Form: 0.307)\n",
      "- Arshdeep Singh (ELO: 1532, Form: 0.234)\n",
      "- J Botha (ELO: 1532, Form: 0.172)\n",
      "- SMSM Senanayake (ELO: 1532, Form: 0.280)\n",
      "- KA Maharaj (ELO: 1532, Form: 0.246)\n",
      "- WD Parnell (ELO: 1532, Form: 0.250)\n",
      "- Harmeet Singh (ELO: 1532, Form: 0.221)\n",
      "- D Jansen (ELO: 1531, Form: 0.250)\n",
      "- SB Wagh (ELO: 1531, Form: 0.157)\n",
      "- T Thushara (ELO: 1530, Form: 0.349)\n",
      "- Mohammad Nabi (ELO: 1530, Form: 0.185)\n",
      "- KC Sangakkara (ELO: 1529, Form: 0.165)\n",
      "- V Pratap Singh (ELO: 1528, Form: 0.233)\n",
      "- AC Voges (ELO: 1528, Form: 0.154)\n",
      "- KP Pietersen (ELO: 1528, Form: 0.210)\n",
      "- YA Abdulla (ELO: 1528, Form: 0.244)\n",
      "- DA Warner (ELO: 1528, Form: 0.273)\n",
      "- PP Chawla (ELO: 1527, Form: 0.218)\n",
      "- Umar Gul (ELO: 1526, Form: 0.405)\n",
      "- G Coetzee (ELO: 1526, Form: 0.211)\n",
      "- Ankit Soni (ELO: 1525, Form: 0.168)\n",
      "- DJ Muthuswami (ELO: 1525, Form: 0.158)\n",
      "- BE Hendricks (ELO: 1524, Form: 0.288)\n",
      "- RG Sharma (ELO: 1523, Form: 0.184)\n",
      "- D du Preez (ELO: 1523, Form: 0.339)\n",
      "- AJ Hosein (ELO: 1523, Form: 0.160)\n",
      "- NLTC Perera (ELO: 1523, Form: 0.163)\n",
      "- P Negi (ELO: 1522, Form: 0.190)\n",
      "- JW Hastings (ELO: 1522, Form: 0.246)\n",
      "- TH David (ELO: 1521, Form: 0.182)\n",
      "- O Thomas (ELO: 1520, Form: 0.240)\n",
      "- B Laughlin (ELO: 1520, Form: 0.188)\n",
      "- PD Collingwood (ELO: 1520, Form: 0.195)\n",
      "- D Wiese (ELO: 1518, Form: 0.192)\n",
      "- SJ Srivastava (ELO: 1518, Form: 0.199)\n",
      "- AS Rajpoot (ELO: 1518, Form: 0.160)\n",
      "- KP Appanna (ELO: 1516, Form: 0.170)\n",
      "- NK Patel (ELO: 1513, Form: 0.158)\n",
      "- C Sakariya (ELO: 1513, Form: 0.221)\n",
      "- KM Asif (ELO: 1513, Form: 0.186)\n",
      "- HM Amla (ELO: 1512, Form: 0.217)\n",
      "- Arjun Tendulkar (ELO: 1512, Form: 0.176)\n",
      "- CL White (ELO: 1511, Form: 0.168)\n",
      "- S Sandeep Warrier (ELO: 1511, Form: 0.163)\n",
      "- Mukesh Choudhary (ELO: 1509, Form: 0.216)\n",
      "- VY Mahesh (ELO: 1508, Form: 0.245)\n",
      "- KC Cariappa (ELO: 1508, Form: 0.160)\n",
      "- RR Rossouw (ELO: 1508, Form: 0.166)\n",
      "- M Ashwin (ELO: 1507, Form: 0.175)\n",
      "- OA Shah (ELO: 1505, Form: 0.163)\n",
      "- IS Sodhi (ELO: 1504, Form: 0.246)\n",
      "- SM Katich (ELO: 1502, Form: 0.156)\n",
      "- A Kamboj (ELO: 1502, Form: 0.166)\n",
      "- A Flintoff (ELO: 1499, Form: 0.180)\n",
      "- NB Singh (ELO: 1499, Form: 0.231)\n",
      "- SS Cottrell (ELO: 1499, Form: 0.213)\n",
      "- Karanveer Singh (ELO: 1497, Form: 0.287)\n",
      "- RS Hangargekar (ELO: 1497, Form: 0.246)\n",
      "- GC Viljoen (ELO: 1494, Form: 0.213)\n",
      "- J Theron (ELO: 1494, Form: 0.245)\n",
      "- Basil Thampi (ELO: 1493, Form: 0.200)\n",
      "- D Pretorius (ELO: 1492, Form: 0.207)\n",
      "- Mohammad Asif (ELO: 1489, Form: 0.194)\n",
      "- DG Nalkande (ELO: 1488, Form: 0.182)\n",
      "- AD Mascarenhas (ELO: 1488, Form: 0.287)\n",
      "- Joginder Sharma (ELO: 1486, Form: 0.165)\n",
      "- S Narwal (ELO: 1485, Form: 0.160)\n",
      "- C Nanda (ELO: 1484, Form: 0.193)\n",
      "- BAW Mendis (ELO: 1484, Form: 0.205)\n",
      "- V Kaverappa (ELO: 1482, Form: 0.300)\n",
      "- Tilak Varma (ELO: 1482, Form: 0.251)\n",
      "- R Rampaul (ELO: 1481, Form: 0.298)\n",
      "- Mashrafe Mortaza (ELO: 1478, Form: 0.202)\n",
      "- PH Solanki (ELO: 1476, Form: 0.225)\n",
      "- Ashutosh Sharma (ELO: 1474, Form: 0.198)\n",
      "- SS Mundhe (ELO: 1473, Form: 0.279)\n",
      "- RJW Topley (ELO: 1470, Form: 0.190)\n",
      "- DAJ Bracewell (ELO: 1464, Form: 0.610)\n",
      "- R Ninan (ELO: 1461, Form: 0.250)\n",
      "- JR Hopes (ELO: 1456, Form: 0.159)\n",
      "- M Ntini (ELO: 1455, Form: 0.219)\n",
      "- A Uniyal (ELO: 1455, Form: 0.226)\n",
      "- AF Milne (ELO: 1453, Form: 0.193)\n",
      "- LPC Silva (ELO: 1452, Form: 0.164)\n",
      "- JJ van der Wath (ELO: 1450, Form: 0.182)\n",
      "- AB Dinda (ELO: 1450, Form: 0.225)\n",
      "- BJ Rohrer (ELO: 1442, Form: 0.202)\n",
      "- Atharva Taide (ELO: 1439, Form: 0.190)\n",
      "- Shoaib Ahmed (ELO: 1438, Form: 0.165)\n",
      "- Fazalhaq Farooqi (ELO: 1436, Form: 0.179)\n",
      "- A Choudhary (ELO: 1434, Form: 0.212)\n",
      "- N Thushara (ELO: 1431, Form: 0.208)\n",
      "- S Badree (ELO: 1431, Form: 0.202)\n",
      "- AC Thomas (ELO: 1423, Form: 0.234)\n",
      "- JE Taylor (ELO: 1423, Form: 0.221)\n",
      "- Ankit Sharma (ELO: 1423, Form: 0.156)\n",
      "- Naman Dhir (ELO: 1421, Form: 0.159)\n",
      "- Anureet Singh (ELO: 1421, Form: 0.185)\n",
      "- TS Mills (ELO: 1413, Form: 0.189)\n",
      "- Shahid Afridi (ELO: 1407, Form: 0.217)\n",
      "- R Sharma (ELO: 1396, Form: 0.229)\n"
     ]
    }
   ],
   "source": [
    "low_elo_high_form = df[(df['ELO'] < df['ELO'].median()) & (df['Form'] > df['Form'].median())]\n",
    "\n",
    "print(\"\\nPlayers with lower ELO but above-median form (potential risers):\")\n",
    "if not low_elo_high_form.empty:\n",
    "    for _, player in low_elo_high_form.iterrows():\n",
    "        print(f\"- {player['Player']} (ELO: {player['ELO']}, Form: {player['Form']:.3f})\")\n",
    "else:\n",
    "    print(\"None identified\")"
   ]
  }
 ],
 "metadata": {
  "kernelspec": {
   "display_name": "Python 3",
   "language": "python",
   "name": "python3"
  },
  "language_info": {
   "codemirror_mode": {
    "name": "ipython",
    "version": 3
   },
   "file_extension": ".py",
   "mimetype": "text/x-python",
   "name": "python",
   "nbconvert_exporter": "python",
   "pygments_lexer": "ipython3",
   "version": "3.11.0"
  }
 },
 "nbformat": 4,
 "nbformat_minor": 2
}
